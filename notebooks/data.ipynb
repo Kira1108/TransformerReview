{
  "nbformat": 4,
  "nbformat_minor": 0,
  "metadata": {
    "colab": {
      "name": "data.ipynb",
      "provenance": [],
      "collapsed_sections": []
    },
    "kernelspec": {
      "name": "python3",
      "display_name": "Python 3"
    },
    "language_info": {
      "name": "python"
    }
  },
  "cells": [
    {
      "cell_type": "markdown",
      "source": [
        "### Do the dirty things\n",
        "\n",
        "- All NLP tasks starts with dirty cleaning work\n",
        "- Tokenize things, determine vocab size, sequence lengths...\n",
        "- After model training, you need to save tokenizer as well as the  model"
      ],
      "metadata": {
        "id": "AhH_dp7w5Blo"
      }
    },
    {
      "cell_type": "code",
      "execution_count": 2,
      "metadata": {
        "id": "uQj2cmlU1Ift"
      },
      "outputs": [],
      "source": [
        "# !pip install tensorflow_datasets\n",
        "# !pip install -U 'tensorflow-text==2.8.*'"
      ]
    },
    {
      "cell_type": "code",
      "source": [
        "import logging\n",
        "import time\n",
        "\n",
        "import numpy as np\n",
        "import matplotlib.pyplot as plt\n",
        "\n",
        "import tensorflow_datasets as tfds\n",
        "import tensorflow as tf\n",
        "\n",
        "import tensorflow_text\n",
        "\n",
        "logging.getLogger('tensorflow').setLevel(logging.ERROR)"
      ],
      "metadata": {
        "id": "ironC3FA1SVa"
      },
      "execution_count": 4,
      "outputs": []
    },
    {
      "cell_type": "markdown",
      "source": [
        "### Download Data"
      ],
      "metadata": {
        "id": "abFBqfj42491"
      }
    },
    {
      "cell_type": "code",
      "source": [
        "examples, metadata = tfds.load('ted_hrlr_translate/pt_to_en', with_info=True,\n",
        "                               as_supervised=True, data_dir = './tensorflow_data')\n",
        "train_examples, val_examples = examples['train'], examples['validation']"
      ],
      "metadata": {
        "id": "35RHGw5w1eG4"
      },
      "execution_count": 12,
      "outputs": []
    },
    {
      "cell_type": "code",
      "source": [
        "print(\"*\"*150)\n",
        "for t in train_examples.take(3):\n",
        "    print(t[0].numpy().decode())\n",
        "    print(t[1].numpy().decode())\n",
        "    print(\"*\"*150)"
      ],
      "metadata": {
        "colab": {
          "base_uri": "https://localhost:8080/"
        },
        "id": "wmlm7Bfs1x2J",
        "outputId": "5cb8b715-542e-4fad-d153-18b61f66bda1"
      },
      "execution_count": 28,
      "outputs": [
        {
          "output_type": "stream",
          "name": "stdout",
          "text": [
            "******************************************************************************************************************************************************\n",
            "e quando melhoramos a procura , tiramos a única vantagem da impressão , que é a serendipidade .\n",
            "and when you improve searchability , you actually take away the one advantage of print , which is serendipity .\n",
            "******************************************************************************************************************************************************\n",
            "mas e se estes fatores fossem ativos ?\n",
            "but what if it were active ?\n",
            "******************************************************************************************************************************************************\n",
            "mas eles não tinham a curiosidade de me testar .\n",
            "but they did n't test for curiosity .\n",
            "******************************************************************************************************************************************************\n"
          ]
        }
      ]
    },
    {
      "cell_type": "markdown",
      "source": [
        "### Download Tokenizer"
      ],
      "metadata": {
        "id": "niIRjYaV6FN4"
      }
    },
    {
      "cell_type": "code",
      "source": [
        "model_name = 'ted_hrlr_translate_pt_en_converter'\n",
        "tf.keras.utils.get_file(\n",
        "    f'{model_name}.zip',\n",
        "    f'https://storage.googleapis.com/download.tensorflow.org/models/{model_name}.zip',\n",
        "    cache_dir='.', cache_subdir='', extract=True\n",
        ")\n",
        "\n",
        "tokenizers = tf.saved_model.load(model_name)"
      ],
      "metadata": {
        "id": "3sMt6H8Q2-nG"
      },
      "execution_count": 38,
      "outputs": []
    },
    {
      "cell_type": "markdown",
      "source": [
        "### 研究一下这个tokenizer"
      ],
      "metadata": {
        "id": "4lveygyR9rLT"
      }
    },
    {
      "cell_type": "code",
      "source": [
        "import inspect\n",
        "from typing import Callable\n",
        "\n",
        "def inspect_object(obj, filter_private = True):\n",
        "\n",
        "    filter_ = lambda x:not x.startswith('_') if filter_private \\\n",
        "                else lambda x:True\n",
        "\n",
        "    return {m: 'callable' if isinstance(getattr(obj,m), Callable) else 'attribute'\n",
        "            for m in dir(obj) if filter_(m)}"
      ],
      "metadata": {
        "id": "rjy4RpZ66H5d"
      },
      "execution_count": 70,
      "outputs": []
    },
    {
      "cell_type": "code",
      "source": [
        "inspect_object(tokenizers)"
      ],
      "metadata": {
        "colab": {
          "base_uri": "https://localhost:8080/"
        },
        "id": "0qWA6jPj6QXt",
        "outputId": "b2de0c26-8dd4-4b57-da2a-9070dd9bc025"
      },
      "execution_count": 73,
      "outputs": [
        {
          "output_type": "execute_result",
          "data": {
            "text/plain": [
              "{'en': 'attribute',\n",
              " 'graph_debug_info': 'attribute',\n",
              " 'pt': 'attribute',\n",
              " 'signatures': 'attribute',\n",
              " 'tensorflow_git_version': 'attribute',\n",
              " 'tensorflow_version': 'attribute'}"
            ]
          },
          "metadata": {},
          "execution_count": 73
        }
      ]
    },
    {
      "cell_type": "code",
      "source": [
        "inspect_object(tokenizers.en)"
      ],
      "metadata": {
        "colab": {
          "base_uri": "https://localhost:8080/"
        },
        "id": "hp7cYMND6iK0",
        "outputId": "e82ad3a2-9ec3-46fe-bcc3-242b8172471d"
      },
      "execution_count": 72,
      "outputs": [
        {
          "output_type": "execute_result",
          "data": {
            "text/plain": [
              "{'detokenize': 'callable',\n",
              " 'get_reserved_tokens': 'callable',\n",
              " 'get_vocab_path': 'callable',\n",
              " 'get_vocab_size': 'callable',\n",
              " 'lookup': 'callable',\n",
              " 'tokenize': 'callable',\n",
              " 'tokenizer': 'attribute',\n",
              " 'vocab': 'attribute'}"
            ]
          },
          "metadata": {},
          "execution_count": 72
        }
      ]
    },
    {
      "cell_type": "markdown",
      "source": [
        "### Use tokenizer\n",
        "\n",
        "\n",
        "这俩很nice的东西，直接帮我把输入和输入都变成想要的样子了\n",
        "- `tokenizers.lang.tokenize(tensor)`\n",
        "- `tokenizers.lang.detokenize(encoded_tensor)`\n",
        "- `tokenizers.lang.lookup(encoded_tensor)`"
      ],
      "metadata": {
        "id": "vSv0jsCw-2Gq"
      }
    },
    {
      "cell_type": "code",
      "source": [
        "pt, en = next(iter(train_examples.batch(10).take(1)))"
      ],
      "metadata": {
        "id": "sDXKpeGn-El9"
      },
      "execution_count": 113,
      "outputs": []
    },
    {
      "cell_type": "code",
      "source": [
        "tokenized_pt = tokenizers.pt.tokenize(pt)\n",
        "tokenized_pt"
      ],
      "metadata": {
        "colab": {
          "base_uri": "https://localhost:8080/"
        },
        "id": "znMST6Ol_MT9",
        "outputId": "4bef5651-2cee-4769-887d-8e1d5b67ddbc"
      },
      "execution_count": 114,
      "outputs": [
        {
          "output_type": "execute_result",
          "data": {
            "text/plain": [
              "<tf.RaggedTensor [[2, 44, 115, 6402, 148, 40, 887, 14, 3936, 40, 463, 2715, 94, 2047, 14, 84,\n",
              "  44, 40, 117, 1328, 2721, 818, 539, 16, 3]                                 ,\n",
              " [2, 99, 44, 89, 199, 2836, 1336, 3996, 32, 3],\n",
              " [2, 99, 131, 88, 383, 40, 2673, 83, 110, 1972, 16, 3],\n",
              " [2, 44, 105, 5286, 7097, 2955, 3276, 44, 40, 407, 205, 267, 104, 14, 97,\n",
              "  40, 961, 1113, 613, 14, 404, 186, 144, 1689, 16, 3]                    ,\n",
              " [2, 39, 39, 39, 39, 9, 9, 143, 283, 162, 128, 40, 1569, 100, 142, 420, 16,\n",
              "  9, 9, 3]                                                                 ,\n",
              " [2, 39, 39, 104, 4877, 106, 464, 93, 39, 39, 9, 9, 3603, 83, 600, 9, 9, 9,\n",
              "  9, 14, 84, 109, 1036, 84, 360, 92, 111, 4300, 15, 89, 3924, 99, 84, 14,\n",
              "  103, 362, 14, 88, 360, 307, 16, 9, 9, 3]                                 ,\n",
              " [2, 5827, 15, 100, 140, 100, 860, 1190, 6405, 174, 83, 5197, 100, 6405,\n",
              "  1700, 3145, 14, 98, 665, 220, 321, 40, 6634, 157, 91, 825, 102, 89, 6630,\n",
              "  158, 133, 16, 3]                                                         ,\n",
              " [2, 265, 111, 112, 529, 83, 84, 88, 46, 215, 1245, 654, 16, 3],\n",
              " [2, 88, 14, 54, 84, 98, 453, 14, 1681, 14, 44, 84, 54, 328, 14, 54, 1220,\n",
              "  105, 5891, 3369, 176, 376, 94, 4655, 16, 3]                             ,\n",
              " [2, 83, 318, 40, 138, 550, 28, 114, 44, 84, 899, 32, 3]]>"
            ]
          },
          "metadata": {},
          "execution_count": 114
        }
      ]
    },
    {
      "cell_type": "code",
      "source": [
        "tokenizers.pt.detokenize(tokenized_pt)"
      ],
      "metadata": {
        "colab": {
          "base_uri": "https://localhost:8080/"
        },
        "id": "zIOPZf7gBv7-",
        "outputId": "f7bd6080-a23b-4fe7-f9d5-f59b57fddc28"
      },
      "execution_count": 115,
      "outputs": [
        {
          "output_type": "execute_result",
          "data": {
            "text/plain": [
              "<tf.Tensor: shape=(10,), dtype=string, numpy=\n",
              "array([b'e quando melhoramos a procura , tiramos a unica vantagem da impressao , que e a serendipidade .',\n",
              "       b'mas e se estes fatores fossem ativos ?',\n",
              "       b'mas eles nao tinham a curiosidade de me testar .',\n",
              "       b'e esta rebeldia consciente e a razao pela qual eu , como agnostica , posso ainda ter fe .',\n",
              "       b\"` ` ` ` ' ' podem usar tudo sobre a mesa no meu corpo . ' '\",\n",
              "       b\"` ` eu escrevo muito acerca do ` ` ' ' teatro de seguranca ' ' ' ' , que sao produtos que fazem as pessoas sentirem - se seguras mas que , na realidade , nao fazem nada . ' '\",\n",
              "       b'colocaram - no bem no fundo duma mina de ferro no minnesota , nos ultimos dois dias anunciaram os resultados mais sensiveis ate agora .',\n",
              "       b'algumas pessoas tem medo de que nao gostem delas .',\n",
              "       b'nao , o que nos aconteceu , chris , e que o poder , o preco esta fixado fora da margem .',\n",
              "       b'de volta a minha pergunta : porque e que fiquei ?'], dtype=object)>"
            ]
          },
          "metadata": {},
          "execution_count": 115
        }
      ]
    },
    {
      "cell_type": "code",
      "source": [
        "tokenizers.pt.lookup(tokenized_pt)"
      ],
      "metadata": {
        "colab": {
          "base_uri": "https://localhost:8080/"
        },
        "id": "pavya2FsCCQ6",
        "outputId": "e602ee94-4122-4407-ba52-4ce452fd03bd"
      },
      "execution_count": 116,
      "outputs": [
        {
          "output_type": "execute_result",
          "data": {
            "text/plain": [
              "<tf.RaggedTensor [[b'[START]', b'e', b'quando', b'melhora', b'##mos', b'a', b'procura', b',',\n",
              "  b'tiramos', b'a', b'unica', b'vantagem', b'da', b'impressao', b',',\n",
              "  b'que', b'e', b'a', b'ser', b'##en', b'##di', b'##p', b'##idade', b'.',\n",
              "  b'[END]']                                                                 ,\n",
              " [b'[START]', b'mas', b'e', b'se', b'estes', b'fatores', b'fossem',\n",
              "  b'ativos', b'?', b'[END]']                                       ,\n",
              " [b'[START]', b'mas', b'eles', b'nao', b'tinham', b'a', b'curiosidade',\n",
              "  b'de', b'me', b'testar', b'.', b'[END]']                             ,\n",
              " [b'[START]', b'e', b'esta', b're', b'##bel', b'##dia', b'consciente', b'e',\n",
              "  b'a', b'razao', b'pela', b'qual', b'eu', b',', b'como', b'a', b'##g',\n",
              "  b'##nos', b'##tica', b',', b'posso', b'ainda', b'ter', b'fe', b'.',\n",
              "  b'[END]']                                                                 ,\n",
              " [b'[START]', b'`', b'`', b'`', b'`', b\"'\", b\"'\", b'podem', b'usar',\n",
              "  b'tudo', b'sobre', b'a', b'mesa', b'no', b'meu', b'corpo', b'.', b\"'\",\n",
              "  b\"'\", b'[END]']                                                       ,\n",
              " [b'[START]', b'`', b'`', b'eu', b'escrevo', b'muito', b'acerca', b'do',\n",
              "  b'`', b'`', b\"'\", b\"'\", b'teatro', b'de', b'seguranca', b\"'\", b\"'\", b\"'\",\n",
              "  b\"'\", b',', b'que', b'sao', b'produtos', b'que', b'fazem', b'as',\n",
              "  b'pessoas', b'sentirem', b'-', b'se', b'seguras', b'mas', b'que', b',',\n",
              "  b'na', b'realidade', b',', b'nao', b'fazem', b'nada', b'.', b\"'\", b\"'\",\n",
              "  b'[END]']                                                                ,\n",
              " [b'[START]', b'colocaram', b'-', b'no', b'bem', b'no', b'fundo', b'duma',\n",
              "  b'min', b'##a', b'de', b'ferro', b'no', b'min', b'##nes', b'##ota', b',',\n",
              "  b'nos', b'ultimos', b'dois', b'dias', b'a', b'##nunciar', b'##am', b'os',\n",
              "  b'resultados', b'mais', b'se', b'##nsiveis', b'ate', b'agora', b'.',\n",
              "  b'[END]']                                                                ,\n",
              " [b'[START]', b'algumas', b'pessoas', b'tem', b'medo', b'de', b'que',\n",
              "  b'nao', b'g', b'##os', b'##tem', b'delas', b'.', b'[END]']         ,\n",
              " [b'[START]', b'nao', b',', b'o', b'que', b'nos', b'aconteceu', b',',\n",
              "  b'chris', b',', b'e', b'que', b'o', b'poder', b',', b'o', b'preco',\n",
              "  b'esta', b'fi', b'##xa', b'##do', b'fora', b'da', b'margem', b'.',\n",
              "  b'[END]']                                                          ,\n",
              " [b'[START]', b'de', b'volta', b'a', b'minha', b'pergunta', b':', b'porque',\n",
              "  b'e', b'que', b'fiquei', b'?', b'[END]']                                  ]>"
            ]
          },
          "metadata": {},
          "execution_count": 116
        }
      ]
    },
    {
      "cell_type": "markdown",
      "source": [
        "### Very stupid determined sequence length part"
      ],
      "metadata": {
        "id": "4wxCQKZmQbbP"
      }
    },
    {
      "cell_type": "code",
      "source": [
        "lengths = []\n",
        "\n",
        "for pt_examples, en_examples in train_examples.batch(1024):\n",
        "  pt_tokens = tokenizers.en.tokenize(pt_examples)\n",
        "  lengths.append(pt_tokens.row_lengths())\n",
        "\n",
        "  en_tokens = tokenizers.en.tokenize(en_examples)\n",
        "  lengths.append(en_tokens.row_lengths())\n",
        "  print('.', end='', flush=True)\n",
        "\n",
        "all_lengths = np.concatenate(lengths)\n",
        "\n",
        "plt.hist(all_lengths, np.linspace(0, 500, 101))\n",
        "plt.ylim(plt.ylim())\n",
        "max_length = max(all_lengths)\n",
        "plt.plot([max_length, max_length], plt.ylim())\n",
        "plt.title(f'Max tokens per example: {max_length}');"
      ],
      "metadata": {
        "colab": {
          "base_uri": "https://localhost:8080/",
          "height": 299
        },
        "id": "kkKflAk7ENZn",
        "outputId": "879a39f1-ec0f-4875-9c73-29e799f1db9a"
      },
      "execution_count": 123,
      "outputs": [
        {
          "output_type": "stream",
          "name": "stdout",
          "text": [
            "..................................................."
          ]
        },
        {
          "output_type": "display_data",
          "data": {
            "text/plain": [
              "<Figure size 432x288 with 1 Axes>"
            ],
            "image/png": "[encoded data removed]"
          },
          "metadata": {
            "needs_background": "light"
          }
        }
      ]
    },
    {
      "cell_type": "code",
      "source": [
        ""
      ],
      "metadata": {
        "id": "JwcRjC-RNopB"
      },
      "execution_count": null,
      "outputs": []
    }
  ]
}